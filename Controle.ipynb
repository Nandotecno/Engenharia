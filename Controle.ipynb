{
  "nbformat": 4,
  "nbformat_minor": 0,
  "metadata": {
    "colab": {
      "name": "Controle.ipynb",
      "provenance": [],
      "authorship_tag": "ABX9TyMHcxP3RMSuKw3gYExSWOY1",
      "include_colab_link": true
    },
    "kernelspec": {
      "name": "python3",
      "display_name": "Python 3"
    },
    "language_info": {
      "name": "python"
    }
  },
  "cells": [
    {
      "cell_type": "markdown",
      "metadata": {
        "id": "view-in-github",
        "colab_type": "text"
      },
      "source": [
        "<a href=\"https://colab.research.google.com/github/Nandotecno/Engenharia/blob/main/Controle.ipynb\" target=\"_parent\"><img src=\"https://colab.research.google.com/assets/colab-badge.svg\" alt=\"Open In Colab\"/></a>"
      ]
    },
    {
      "cell_type": "code",
      "metadata": {
        "id": "aFXVlAc5lykI",
        "colab": {
          "base_uri": "https://localhost:8080/",
          "height": 128
        },
        "outputId": "48734174-53a0-42e2-b005-d89949061180"
      },
      "source": [
        "class Tv:\n",
        "  def __init__(self, t=55):\n",
        "    self.marca = 'LG'\n",
        "    self.modelo = '4G'\n",
        "    self.cor = 'preto'\n",
        "    self.tamanho = t \n",
        "    self.canal ='Netflix'\n",
        "\n",
        "  def muda_canal(self, novo_canal=''):\n",
        "    if novo_canal == '':\n",
        "      pass\n",
        "    else:\n",
        "    self.canal = novo_canal\n",
        "\n",
        "tv_sala = Tv(70)\n",
        "tv_quarto = Tv()\n",
        "   "
      ],
      "execution_count": null,
      "outputs": [
        {
          "output_type": "error",
          "ename": "IndentationError",
          "evalue": "ignored",
          "traceback": [
            "\u001b[0;36m  File \u001b[0;32m\"<ipython-input-87-351a4add9042>\"\u001b[0;36m, line \u001b[0;32m13\u001b[0m\n\u001b[0;31m    self.canal = novo_canal\u001b[0m\n\u001b[0m    ^\u001b[0m\n\u001b[0;31mIndentationError\u001b[0m\u001b[0;31m:\u001b[0m expected an indented block\n"
          ]
        }
      ]
    },
    {
      "cell_type": "code",
      "metadata": {
        "colab": {
          "base_uri": "https://localhost:8080/"
        },
        "id": "IOZJtrPT3DEe",
        "outputId": "1d85c2eb-bd48-4c50-82ad-3117491bf3df"
      },
      "source": [
        " tv_sala.tamanho\n",
        " 55"
      ],
      "execution_count": null,
      "outputs": [
        {
          "output_type": "execute_result",
          "data": {
            "text/plain": [
              "55"
            ]
          },
          "metadata": {
            "tags": []
          },
          "execution_count": 70
        }
      ]
    },
    {
      "cell_type": "code",
      "metadata": {
        "colab": {
          "base_uri": "https://localhost:8080/"
        },
        "id": "Ci9czyi21wAD",
        "outputId": "0600dd42-74a2-4963-a022-4ccbbb7e3ea9"
      },
      "source": [
        " tv_quarto.tamanho"
      ],
      "execution_count": null,
      "outputs": [
        {
          "output_type": "execute_result",
          "data": {
            "text/plain": [
              "30"
            ]
          },
          "metadata": {
            "tags": []
          },
          "execution_count": 71
        }
      ]
    },
    {
      "cell_type": "code",
      "metadata": {
        "colab": {
          "base_uri": "https://localhost:8080/",
          "height": 35
        },
        "id": "3_0dQb0N3ATq",
        "outputId": "db5a371c-c99c-4568-cd66-4ed89f9cce3a"
      },
      "source": [
        "tv_sala.marca"
      ],
      "execution_count": null,
      "outputs": [
        {
          "output_type": "execute_result",
          "data": {
            "application/vnd.google.colaboratory.intrinsic+json": {
              "type": "string"
            },
            "text/plain": [
              "'LG'"
            ]
          },
          "metadata": {
            "tags": []
          },
          "execution_count": 72
        }
      ]
    },
    {
      "cell_type": "code",
      "metadata": {
        "colab": {
          "base_uri": "https://localhost:8080/",
          "height": 35
        },
        "id": "SVCs4Qt_6Dle",
        "outputId": "c7811b69-4778-4319-f46b-8ebdd37a6351"
      },
      "source": [
        "tv_sala.muda_canal('SBT')\n",
        "tv_sala.canal   "
      ],
      "execution_count": null,
      "outputs": [
        {
          "output_type": "execute_result",
          "data": {
            "application/vnd.google.colaboratory.intrinsic+json": {
              "type": "string"
            },
            "text/plain": [
              "'Disney+'"
            ]
          },
          "metadata": {
            "tags": []
          },
          "execution_count": 77
        }
      ]
    },
    {
      "cell_type": "code",
      "metadata": {
        "colab": {
          "base_uri": "https://localhost:8080/",
          "height": 35
        },
        "id": "Px0nsk346Llg",
        "outputId": "8479de38-da4a-4036-8856-dbe084ed6cd0"
      },
      "source": [
        "tv_quarto.canal\n"
      ],
      "execution_count": null,
      "outputs": [
        {
          "output_type": "execute_result",
          "data": {
            "application/vnd.google.colaboratory.intrinsic+json": {
              "type": "string"
            },
            "text/plain": [
              "'Netflix'"
            ]
          },
          "metadata": {
            "tags": []
          },
          "execution_count": 67
        }
      ]
    }
  ]
}