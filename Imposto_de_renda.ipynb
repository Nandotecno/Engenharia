{
  "nbformat": 4,
  "nbformat_minor": 0,
  "metadata": {
    "colab": {
      "name": "Imposto.de. renda.ipynb",
      "provenance": [],
      "authorship_tag": "ABX9TyORSpL6+zhuaTv/3HKsEHVa",
      "include_colab_link": true
    },
    "kernelspec": {
      "name": "python3",
      "display_name": "Python 3"
    },
    "language_info": {
      "name": "python"
    }
  },
  "cells": [
    {
      "cell_type": "markdown",
      "metadata": {
        "id": "view-in-github",
        "colab_type": "text"
      },
      "source": [
        "<a href=\"https://colab.research.google.com/github/Nandotecno/Engenharia/blob/main/Imposto_de_renda.ipynb\" target=\"_parent\"><img src=\"https://colab.research.google.com/assets/colab-badge.svg\" alt=\"Open In Colab\"/></a>"
      ]
    },
    {
      "cell_type": "code",
      "metadata": {
        "colab": {
          "base_uri": "https://localhost:8080/"
        },
        "id": "4Ws9rlcAozD1",
        "outputId": "abb2c20a-8b78-4bb4-fedb-d60961132567"
      },
      "source": [
        "renda = float(input(\"Digite a renda para o cálculo do imposto: \"))\n",
        "base = renda\n",
        "imposto = 0\n",
        "if base > 1903.99:\n",
        "    imposto = imposto + (1903.99 * 7.5/100)\n",
        "    base = 1903.99\n",
        "if base > 2826.66:\n",
        "    imposto = imposto + ((base - 2826.66) * 15/100)\n",
        "    base = 2826.66\n",
        "if base > 3751.06:\n",
        "    imposto = imposto + ((base - 3751.06) * 22.5/100)\n",
        "    base = 3751.06\n",
        "if base > 4664.68:\n",
        "    imposto = imposto + ((base - 4664.68) * 27.5/100)\n",
        "if base < 1903.98:\n",
        "  print(\"Valores abaixo de R$1903.98 não precisam ser feito imposto de renda!!\")\n",
        "print(\"Renda: R$%6.2f Imposto a pagar: R$%6.2f\" % (renda, imposto))"
      ],
      "execution_count": 1,
      "outputs": [
        {
          "output_type": "stream",
          "name": "stdout",
          "text": [
            "Digite a renda para o cálculo do imposto: 1400\n",
            "Valores abaixo de R$1903.98 não precisam ser feito imposto de renda!!\n",
            "Renda: R$1400.00 Imposto a pagar: R$  0.00\n"
          ]
        }
      ]
    }
  ]
}