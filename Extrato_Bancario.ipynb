{
  "nbformat": 4,
  "nbformat_minor": 0,
  "metadata": {
    "accelerator": "GPU",
    "colab": {
      "name": "Extrato_Bancario.ipynb",
      "provenance": [],
      "collapsed_sections": [],
      "include_colab_link": true
    },
    "kernelspec": {
      "display_name": "Python 3",
      "name": "python3"
    }
  },
  "cells": [
    {
      "cell_type": "markdown",
      "metadata": {
        "id": "view-in-github",
        "colab_type": "text"
      },
      "source": [
        "<a href=\"https://colab.research.google.com/github/Nandotecno/Engenharia/blob/main/Extrato_Bancario.ipynb\" target=\"_parent\"><img src=\"https://colab.research.google.com/assets/colab-badge.svg\" alt=\"Open In Colab\"/></a>"
      ]
    },
    {
      "cell_type": "code",
      "metadata": {
        "id": "JxhrRYBk1Jke",
        "colab": {
          "base_uri": "https://localhost:8080/"
        },
        "outputId": "1c0085f3-f635-4bfd-d66d-b0b7cfd7e21e"
      },
      "source": [
        "class Conta:\n",
        "    cliente = 'Fernando Cruz'\n",
        "    agencia = '001'\n",
        "    numero_conta = '1020-2'\n",
        "    saldo = 0\n",
        "\n",
        "    def depositar(self, valor):\n",
        "        self.saldo += valor\n",
        "        self.extrato(valor)\n",
        "\n",
        "    def sacar(self, valor):\n",
        "        if valor <= self.saldo:\n",
        "            self.saldo -= valor\n",
        "            self.extrato(-valor)\n",
        "        else:\n",
        "            print('Saldo insuficiente.')\n",
        "\n",
        "    def menu(self):\n",
        "        print('-' * 30)\n",
        "        print(f'     MENU DE OPERAÇÕES')\n",
        "        print('-' * 30)\n",
        "        print('Opções:')\n",
        "        print('1 - Extrato')\n",
        "        print('2 - Depósito')\n",
        "        print('3 - Saque')\n",
        "        print('4 - Sair')\n",
        "        opcao = input('Digite a opção desejada: ')\n",
        "        if opcao == '1':\n",
        "            self.extrato()\n",
        "        elif opcao == '2':\n",
        "            valor = float(input('Digite o valor a ser depositado: '))\n",
        "            self.depositar(valor)\n",
        "        elif opcao == '3':\n",
        "            valor = float(input('Digite o valor a ser sacado: '))\n",
        "            self.sacar(valor)\n",
        "        elif opcao == '4':\n",
        "            exit()\n",
        "\n",
        "    def extrato(self, ultimo=0):\n",
        "        print()\n",
        "        print('-' * 40)\n",
        "        print(f'                EXTRATO           ')\n",
        "        print('-' * 40)\n",
        "        print(f'CLIENTE - {self.cliente}')\n",
        "        print(f'AGÊNCIA {self.agencia} CONTA {self.numero_conta}')\n",
        "        print('-' * 40)\n",
        "        print('LANÇAMENTOS')\n",
        "        if ultimo > 0:\n",
        "            print(f' DEPÓSITO ATM |     CRÉDITO {ultimo:.2F} ')\n",
        "        print('              |                |')\n",
        "        print('              |                |')\n",
        "        print('-' * 40)\n",
        "        print(f'                        SALDO: R$ {self.saldo:.2F}')\n",
        "        print('-' * 40)\n",
        "        print('             FIM DO EXTRATO\t\t\t\t  ')\n",
        "        print('-' * 40)\n",
        "        aperte = input('Aperte ENTER para retornar ao MENU\\nou (X e ENTER) para sair: ')\n",
        "        if aperte == 'X' or aperte == 'x':\n",
        "            exit()\n",
        "        else:\n",
        "            self.menu()\n",
        "\n",
        "\n",
        "pessoa = Conta()\n",
        "\n",
        "while True:\n",
        "    pessoa.menu()"
      ],
      "execution_count": null,
      "outputs": [
        {
          "output_type": "stream",
          "name": "stdout",
          "text": [
            "------------------------------\n",
            "     MENU DE OPERAÇÕES\n",
            "------------------------------\n",
            "Opções:\n",
            "1 - Extrato\n",
            "2 - Depósito\n",
            "3 - Saque\n",
            "4 - Sair\n"
          ]
        }
      ]
    }
  ]
}