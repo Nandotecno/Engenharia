{
  "nbformat": 4,
  "nbformat_minor": 0,
  "metadata": {
    "colab": {
      "name": "Untitled5.ipynb",
      "provenance": [],
      "authorship_tag": "ABX9TyNkAlzmtVbsgNg80Gx27lKb",
      "include_colab_link": true
    },
    "kernelspec": {
      "name": "python3",
      "display_name": "Python 3"
    },
    "language_info": {
      "name": "python"
    }
  },
  "cells": [
    {
      "cell_type": "markdown",
      "metadata": {
        "id": "view-in-github",
        "colab_type": "text"
      },
      "source": [
        "<a href=\"https://colab.research.google.com/github/Nandotecno/Engenharia/blob/main/Untitled5.ipynb\" target=\"_parent\"><img src=\"https://colab.research.google.com/assets/colab-badge.svg\" alt=\"Open In Colab\"/></a>"
      ]
    },
    {
      "cell_type": "code",
      "metadata": {
        "colab": {
          "base_uri": "https://localhost:8080/",
          "height": 129
        },
        "id": "YXsuHjF8hkrR",
        "outputId": "7c5ee233-b506-429c-9519-742070dd1d4e"
      },
      "source": [
        "salário = float(input(\"Digite o salário para cálculo do imposto: \"))\n",
        "base = salário\n",
        "imposto =0\n",
        "if base > 1903.99:\n",
        "    imposto = imposto + (1903.99 * 7.5/100)\n",
        "    base = 1903.99\n",
        "if base > 1903.99\n",
        "    imposto = imposto + (2826.66 * 15/100)\n",
        "    base = 2826.66\n",
        "if base > 3751.06:\n",
        "    imposto = imposto + (3751.06 * 22.5/100)\n",
        "    base = 3751.06\n",
        "if base > 4664.68:\n",
        "    imposto = imposto + (4664.68 * 27.5/100)\n",
        "if base < 1903.98:\n",
        "  print(\"Valores abaixo de R$1903.98 não precisam ser feito imposto de renda!!\")\n",
        "print(\"Salário: R$%6.2f Imposto a pagar: R$%6.2f\" % (salário, imposto))"
      ],
      "execution_count": null,
      "outputs": [
        {
          "output_type": "error",
          "ename": "SyntaxError",
          "evalue": "ignored",
          "traceback": [
            "\u001b[0;36m  File \u001b[0;32m\"<ipython-input-55-674815bc7c43>\"\u001b[0;36m, line \u001b[0;32m7\u001b[0m\n\u001b[0;31m    if base > 1903.99\u001b[0m\n\u001b[0m                     ^\u001b[0m\n\u001b[0;31mSyntaxError\u001b[0m\u001b[0;31m:\u001b[0m invalid syntax\n"
          ]
        }
      ]
    }
  ]
}