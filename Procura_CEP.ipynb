{
  "nbformat": 4,
  "nbformat_minor": 0,
  "metadata": {
    "colab": {
      "name": "Procura.CEP.ipynb",
      "provenance": [],
      "authorship_tag": "ABX9TyOYAVssbTkXmZgVBDFWHCLx",
      "include_colab_link": true
    },
    "kernelspec": {
      "name": "python3",
      "display_name": "Python 3"
    }
  },
  "cells": [
    {
      "cell_type": "markdown",
      "metadata": {
        "id": "view-in-github",
        "colab_type": "text"
      },
      "source": [
        "<a href=\"https://colab.research.google.com/github/Nandotecno/Engenharia/blob/main/Procura_CEP.ipynb\" target=\"_parent\"><img src=\"https://colab.research.google.com/assets/colab-badge.svg\" alt=\"Open In Colab\"/></a>"
      ]
    },
    {
      "cell_type": "code",
      "metadata": {
        "id": "9oSjH20mgY4Y"
      },
      "source": [
        "import pycep_correios as pc"
      ],
      "execution_count": null,
      "outputs": []
    },
    {
      "cell_type": "code",
      "metadata": {
        "id": "_DDSuuxkiDTQ"
      },
      "source": [
        "endereco = pc.get_address_from_cep(\"11088205\")"
      ],
      "execution_count": null,
      "outputs": []
    },
    {
      "cell_type": "code",
      "metadata": {
        "colab": {
          "base_uri": "https://localhost:8080/"
        },
        "id": "8bUH-dkojjoD",
        "outputId": "96d0304e-723a-461e-d0c5-99ebb3865faa"
      },
      "source": [
        "endereco"
      ],
      "execution_count": null,
      "outputs": [
        {
          "output_type": "execute_result",
          "data": {
            "text/plain": [
              "{'bairro': 'Rádio Clube',\n",
              " 'cep': '11088-205',\n",
              " 'cidade': 'Santos',\n",
              " 'complemento': '',\n",
              " 'logradouro': 'Rua Luiz Bezzi',\n",
              " 'uf': 'SP'}"
            ]
          },
          "metadata": {
            "tags": []
          },
          "execution_count": 22
        }
      ]
    },
    {
      "cell_type": "code",
      "metadata": {
        "colab": {
          "base_uri": "https://localhost:8080/"
        },
        "id": "6kx5wRMEkNFD",
        "outputId": "efb064b9-7c09-47fb-c2b4-e196321eb014"
      },
      "source": [
        "print(endereco[\"cep\"])\n",
        "print(endereco[\"logradouro\"])\n",
        "print(endereco[\"bairro\"])"
      ],
      "execution_count": null,
      "outputs": [
        {
          "output_type": "stream",
          "text": [
            "11088-205\n",
            "Rua Luiz Bezzi\n",
            "Rádio Clube\n"
          ],
          "name": "stdout"
        }
      ]
    },
    {
      "cell_type": "code",
      "metadata": {
        "colab": {
          "base_uri": "https://localhost:8080/"
        },
        "id": "oVb65-aQmFPo",
        "outputId": "02797460-0f6c-43ba-9700-9376b784ed3c"
      },
      "source": [
        "cep = endereco[\"cep\"]\n",
        "print(cep)"
      ],
      "execution_count": null,
      "outputs": [
        {
          "output_type": "stream",
          "text": [
            "11088-205\n"
          ],
          "name": "stdout"
        }
      ]
    },
    {
      "cell_type": "code",
      "metadata": {
        "colab": {
          "base_uri": "https://localhost:8080/"
        },
        "id": "u0QdySE0hkSn",
        "outputId": "f3cde06a-5ade-4764-bd7d-4aa927d1863b"
      },
      "source": [
        "#!pip install pycep_correios"
      ],
      "execution_count": null,
      "outputs": [
        {
          "output_type": "stream",
          "text": [
            "Requirement already satisfied: pycep_correios in /usr/local/lib/python3.7/dist-packages (5.0.0)\n",
            "Requirement already satisfied: zeep>=2.0.0 in /usr/local/lib/python3.7/dist-packages (from pycep_correios) (4.0.0)\n",
            "Requirement already satisfied: requests>=2.7.0 in /usr/local/lib/python3.7/dist-packages (from pycep_correios) (2.23.0)\n",
            "Requirement already satisfied: isodate>=0.5.4 in /usr/local/lib/python3.7/dist-packages (from zeep>=2.0.0->pycep_correios) (0.6.0)\n",
            "Requirement already satisfied: defusedxml>=0.4.1 in /usr/local/lib/python3.7/dist-packages (from zeep>=2.0.0->pycep_correios) (0.7.0)\n",
            "Requirement already satisfied: cached-property>=1.3.0 in /usr/local/lib/python3.7/dist-packages (from zeep>=2.0.0->pycep_correios) (1.5.2)\n",
            "Requirement already satisfied: attrs>=17.2.0 in /usr/local/lib/python3.7/dist-packages (from zeep>=2.0.0->pycep_correios) (20.3.0)\n",
            "Requirement already satisfied: pytz in /usr/local/lib/python3.7/dist-packages (from zeep>=2.0.0->pycep_correios) (2018.9)\n",
            "Requirement already satisfied: requests-file>=1.5.1 in /usr/local/lib/python3.7/dist-packages (from zeep>=2.0.0->pycep_correios) (1.5.1)\n",
            "Requirement already satisfied: appdirs>=1.4.0 in /usr/local/lib/python3.7/dist-packages (from zeep>=2.0.0->pycep_correios) (1.4.4)\n",
            "Requirement already satisfied: lxml>=3.1.0 in /usr/local/lib/python3.7/dist-packages (from zeep>=2.0.0->pycep_correios) (4.2.6)\n",
            "Requirement already satisfied: requests-toolbelt>=0.7.1 in /usr/local/lib/python3.7/dist-packages (from zeep>=2.0.0->pycep_correios) (0.9.1)\n",
            "Requirement already satisfied: chardet<4,>=3.0.2 in /usr/local/lib/python3.7/dist-packages (from requests>=2.7.0->pycep_correios) (3.0.4)\n",
            "Requirement already satisfied: idna<3,>=2.5 in /usr/local/lib/python3.7/dist-packages (from requests>=2.7.0->pycep_correios) (2.10)\n",
            "Requirement already satisfied: certifi>=2017.4.17 in /usr/local/lib/python3.7/dist-packages (from requests>=2.7.0->pycep_correios) (2020.12.5)\n",
            "Requirement already satisfied: urllib3!=1.25.0,!=1.25.1,<1.26,>=1.21.1 in /usr/local/lib/python3.7/dist-packages (from requests>=2.7.0->pycep_correios) (1.24.3)\n",
            "Requirement already satisfied: six in /usr/local/lib/python3.7/dist-packages (from isodate>=0.5.4->zeep>=2.0.0->pycep_correios) (1.15.0)\n"
          ],
          "name": "stdout"
        }
      ]
    }
  ]
}